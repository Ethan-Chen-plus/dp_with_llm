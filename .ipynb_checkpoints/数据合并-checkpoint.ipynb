{
 "cells": [
  {
   "cell_type": "code",
   "execution_count": null,
   "id": "71d40b90-211c-45cd-b9a6-010560543087",
   "metadata": {},
   "outputs": [],
   "source": [
    "import csv\n",
    "import json\n",
    "\n",
    "# 读取JSON数据\n",
    "with open('test.txt', 'r') as json_file:\n",
    "    json_data = json.load(json_file)\n",
    "\n",
    "# 读取CSV数据\n",
    "csv_data = []\n",
    "with open('train_data_private.csv', 'r') as csv_file:\n",
    "    reader = csv.DictReader(csv_file)\n",
    "    for row in reader:\n",
    "        csv_data.append(row)\n",
    "\n",
    "# 合并为一个字典列表\n",
    "merged_data = json_data + csv_data\n",
    "\n",
    "# 写入合并后的数据到merge.csv\n",
    "fieldnames = merged_data[0].keys()\n",
    "with open('merge.csv', 'w', newline='') as merge_file:\n",
    "    writer = csv.DictWriter(merge_file, fieldnames=fieldnames)\n",
    "    writer.writeheader()\n",
    "    writer.writerows(merged_data)\n"
   ]
  }
 ],
 "metadata": {
  "kernelspec": {
   "display_name": "LLM",
   "language": "python",
   "name": "llm"
  },
  "language_info": {
   "codemirror_mode": {
    "name": "ipython",
    "version": 3
   },
   "file_extension": ".py",
   "mimetype": "text/x-python",
   "name": "python",
   "nbconvert_exporter": "python",
   "pygments_lexer": "ipython3",
   "version": "3.11.4"
  }
 },
 "nbformat": 4,
 "nbformat_minor": 5
}
