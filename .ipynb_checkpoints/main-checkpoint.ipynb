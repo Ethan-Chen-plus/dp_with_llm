{
 "cells": [
  {
   "cell_type": "code",
   "execution_count": 21,
   "id": "b7798781-6ec6-4f9b-876b-17f2b3955615",
   "metadata": {},
   "outputs": [],
   "source": [
    "from fastapi import FastAPI, Request\n",
    "from transformers import AutoTokenizer, AutoModel\n",
    "from fastapi.middleware.cors import CORSMiddleware\n",
    "import uvicorn, json, datetime\n",
    "import torch\n",
    "from peft import LoraConfig, get_peft_model, TaskType\n",
    "from torch.utils.data import Dataset\n",
    "from transformers import TrainingArguments, Trainer"
   ]
  },
  {
   "cell_type": "code",
   "execution_count": 22,
   "id": "60b6d7f7-4cd5-4512-b3c8-93c3eb0a3305",
   "metadata": {},
   "outputs": [],
   "source": [
    "import json"
   ]
  },
  {
   "cell_type": "code",
   "execution_count": 23,
   "id": "f556d984-6901-4cdc-a97a-7ebfbf69bfae",
   "metadata": {},
   "outputs": [],
   "source": [
    "DEVICE = \"cuda\"\n",
    "DEVICE_ID = \"0\"\n",
    "CUDA_DEVICE = f\"{DEVICE}:{DEVICE_ID}\" if DEVICE_ID else DEVICE\n",
    "\n",
    "origins = [\n",
    "    \"http://localhost.tiangolo.com\",\n",
    "    \"https://localhost.tiangolo.com\",\n",
    "    \"http://localhost\",\n",
    "    \"http://localhost:8080\",\n",
    "    \"http://localhost:5500\",\n",
    "    \"http://120.55.72.74\",\n",
    "    \"http://www.aivirtuallover.com\",\n",
    "    \"https://www.aivirtuallover.com\",\n",
    "    \"http://aivirtuallover.com\",\n",
    "    \"https://aivirtuallover.com\",\n",
    "]"
   ]
  },
  {
   "cell_type": "code",
   "execution_count": 24,
   "id": "0124ef6d-1ca5-47b4-92b5-5062baba4bb3",
   "metadata": {},
   "outputs": [],
   "source": [
    "def torch_gc():\n",
    "    if torch.cuda.is_available():\n",
    "        with torch.cuda.device(CUDA_DEVICE):\n",
    "            torch.cuda.empty_cache()\n",
    "            torch.cuda.ipc_collect()\n",
    "\n",
    "\n",
    "\n",
    "\n",
    "def load_lora_config(model):\n",
    "    config = LoraConfig(\n",
    "        task_type=TaskType.CAUSAL_LM,\n",
    "        inference_mode=False,\n",
    "        r=8,\n",
    "        lora_alpha=32,\n",
    "        lora_dropout=0.1,\n",
    "        target_modules=[\"query_key_value\"]\n",
    "    )\n",
    "    return get_peft_model(model, config)\n",
    "\n",
    "PROMPT_PATTERN = \"问：{}\"\n",
    "SEP_PATTERN = \"\\n答： \"\n",
    "def create_prompt(question):\n",
    "    return PROMPT_PATTERN.format(question), SEP_PATTERN\n",
    "\n",
    "\n",
    "def create_prompt_ids(tokenizer, question, max_src_length):\n",
    "    prompt, sep = create_prompt(question)\n",
    "    sep_ids = tokenizer.encode(\n",
    "        sep, \n",
    "        add_special_tokens = True\n",
    "    )\n",
    "    sep_len = len(sep_ids)\n",
    "    special_tokens_num = 2\n",
    "    prompt_ids = tokenizer.encode(\n",
    "        prompt, \n",
    "        max_length = max_src_length - (sep_len - special_tokens_num),\n",
    "        truncation = True,\n",
    "        add_special_tokens = False\n",
    "    )\n",
    "\n",
    "    return prompt_ids + sep_ids\n",
    "\n",
    "\n",
    "def create_inputs_and_labels(tokenizer, question, answer, device):\n",
    "    prompt = create_prompt_ids(tokenizer, question, max_src_length)\n",
    "    completion = tokenizer.encode(\n",
    "        answer, \n",
    "        max_length = max_dst_length,\n",
    "        truncation = True,\n",
    "        add_special_tokens = False\n",
    "    )\n",
    "\n",
    "    inputs = prompt + completion + [eop]\n",
    "    labels = [-100] * len(prompt) + completion + [eop] \n",
    "    \n",
    "    inputs = torch.tensor(inputs, dtype=torch.long, device=device)\n",
    "    labels = torch.tensor(labels, dtype=torch.long, device=device)\n",
    "    return inputs, labels\n",
    "\n",
    "def get_attention_mask(tokenizer, input_ids, device):\n",
    "    seq = input_ids.tolist()\n",
    "    context_len = seq.index(bos)\n",
    "    seq_len = len(seq)\n",
    "    attention_mask = torch.ones((seq_len, seq_len), device=device)\n",
    "    attention_mask.tril_()\n",
    "    attention_mask[..., :context_len] = 1\n",
    "    attention_mask.unsqueeze_(0)\n",
    "    attention_mask = (attention_mask < 0.5).bool()\n",
    "    return attention_mask\n",
    "\n",
    "\n",
    "def get_position_ids(tokenizer, input_ids, device, position_encoding_2d=True):\n",
    "    seq = input_ids.tolist()\n",
    "    context_len = seq.index(bos)\n",
    "    seq_len = len(seq)\n",
    "\n",
    "    mask_token = mask if mask in seq else gmask\n",
    "    use_gmask = False if mask in seq else gmask\n",
    "\n",
    "    mask_position = seq.index(mask_token)\n",
    "\n",
    "    if position_encoding_2d:\n",
    "        position_ids = torch.arange(seq_len, dtype=torch.long, device=device)\n",
    "        if not use_gmask:\n",
    "            position_ids[context_len:] = mask_position\n",
    "        block_position_ids = torch.cat((\n",
    "            torch.zeros(context_len, dtype=torch.long, device=device),\n",
    "            torch.arange(seq_len - context_len, dtype=torch.long, device=device) + 1\n",
    "        ))\n",
    "        position_ids = torch.stack((position_ids, block_position_ids), dim=0)\n",
    "    else:\n",
    "        position_ids = torch.arange(seq_len, dtype=torch.long, device=device)\n",
    "        if not use_gmask:\n",
    "            position_ids[context_len:] = mask_position\n",
    "    \n",
    "    return position_ids\n",
    "\n",
    "class QADataset(Dataset):\n",
    "    def __init__(self, data, tokenizer) -> None:\n",
    "        super().__init__()\n",
    "        self.data = data\n",
    "        self.tokenizer = tokenizer\n",
    " \n",
    "\n",
    "    def __getitem__(self, index):\n",
    "        item_data = self.data[index]\n",
    "        tokenizer = self.tokenizer\n",
    "        input_ids, labels = create_inputs_and_labels(\n",
    "            tokenizer, \n",
    "            device=device,\n",
    "            **item_data\n",
    "        )\n",
    "        \n",
    "        attention_mask = get_attention_mask(tokenizer, input_ids, device)\n",
    "        position_ids = get_position_ids(tokenizer, input_ids, device)\n",
    "\n",
    "        return {\n",
    "            \"input_ids\": input_ids,\n",
    "            \"labels\": labels,\n",
    "            \"attention_mask\": attention_mask,\n",
    "            \"position_ids\": position_ids\n",
    "        }\n",
    "        \n",
    "\n",
    "    def __len__(self):\n",
    "        return len(self.data)\n",
    "\n",
    "def collate_fn(batch):\n",
    "    input_ids = []\n",
    "    attention_mask = []\n",
    "    labels = []\n",
    "    position_ids = []\n",
    "    \n",
    "    for obj in batch:\n",
    "        input_ids.append(obj['input_ids'])\n",
    "        labels.append(obj['labels'])\n",
    "        attention_mask.append(obj['attention_mask'])\n",
    "        position_ids.append(obj['position_ids'])\n",
    "        \n",
    "    return {\n",
    "        'input_ids': torch.stack(input_ids),\n",
    "        'attention_mask': torch.stack(attention_mask), \n",
    "        'labels': torch.stack(labels),\n",
    "        'position_ids':torch.stack(position_ids)\n",
    "    }\n",
    "\n",
    "class ModifiedTrainer(Trainer):\n",
    "\n",
    "    def compute_loss(self, model, inputs, return_outputs=False):\n",
    "        return model(\n",
    "            input_ids=inputs[\"input_ids\"],\n",
    "            attention_mask=inputs[\"attention_mask\"],\n",
    "            position_ids=inputs[\"position_ids\"],\n",
    "            labels=inputs[\"labels\"],\n",
    "        ).loss\n"
   ]
  },
  {
   "cell_type": "code",
   "execution_count": 26,
   "id": "8600e0d5-c46f-49d9-8f2c-9408b83fa870",
   "metadata": {},
   "outputs": [
    {
     "data": {
      "application/vnd.jupyter.widget-view+json": {
       "model_id": "286530c614d54008938c7588f3b2a3aa",
       "version_major": 2,
       "version_minor": 0
      },
      "text/plain": [
       "Loading checkpoint shards:   0%|          | 0/8 [00:00<?, ?it/s]"
      ]
     },
     "metadata": {},
     "output_type": "display_data"
    }
   ],
   "source": [
    "revision = \"096f3de6b4959ce38bef7bb05f3129c931a3084e\"    \n",
    "tokenizer = AutoTokenizer.from_pretrained(\"THUDM/chatglm-6b\", revision=revision, trust_remote_code=True)\n",
    "model = AutoModel.from_pretrained(\"THUDM/chatglm-6b\", revision=revision, trust_remote_code=True).half().cuda()\n",
    "model = load_lora_config(model)\n",
    "bos = tokenizer.bos_token_id\n",
    "eop = tokenizer.eop_token_id\n",
    "pad = tokenizer.pad_token_id\n",
    "mask = tokenizer.mask_token_id\n",
    "gmask = tokenizer.sp_tokenizer[tokenizer.gMASK_token]\n",
    "device = \"cuda\"\n",
    "max_src_length = 200\n",
    "max_dst_length = 500\n",
    "training_args = TrainingArguments(\n",
    "    \"output\",\n",
    "    fp16 =True,\n",
    "    save_steps = 500,\n",
    "    save_total_limit = 3,\n",
    "    gradient_accumulation_steps=1,\n",
    "    per_device_train_batch_size = 1,\n",
    "    learning_rate = 1e-4,\n",
    "    max_steps=1000,\n",
    "    logging_steps=50,\n",
    "    remove_unused_columns=False,\n",
    "    seed=0,\n",
    "    data_seed=0,\n",
    "    group_by_length=False,\n",
    "    dataloader_pin_memory=False\n",
    ")"
   ]
  },
  {
   "cell_type": "code",
   "execution_count": 27,
   "id": "7d8ca1f9-c389-438f-841e-6b25d90007af",
   "metadata": {},
   "outputs": [],
   "source": [
    "with open('test.txt', 'r') as f:\n",
    "    json_data = f.read()\n",
    "    f.close()\n",
    "\n",
    "train_data = json.loads(json_data)\n",
    "train_dataset = QADataset(train_data, tokenizer=tokenizer)\n",
    "trainer = ModifiedTrainer(\n",
    "    model=model,\n",
    "    train_dataset=train_dataset,\n",
    "    args=training_args,\n",
    "    data_collator=collate_fn,\n",
    "    tokenizer=tokenizer\n",
    ")"
   ]
  },
  {
   "cell_type": "code",
   "execution_count": 29,
   "id": "df7f785d-643d-40a5-b608-77853b66466f",
   "metadata": {},
   "outputs": [
    {
     "name": "stdout",
     "output_type": "stream",
     "text": [
      "Sat Aug 12 16:04:14 2023       \n",
      "+---------------------------------------------------------------------------------------+\n",
      "| NVIDIA-SMI 535.54.03              Driver Version: 535.54.03    CUDA Version: 12.2     |\n",
      "|-----------------------------------------+----------------------+----------------------+\n",
      "| GPU  Name                 Persistence-M | Bus-Id        Disp.A | Volatile Uncorr. ECC |\n",
      "| Fan  Temp   Perf          Pwr:Usage/Cap |         Memory-Usage | GPU-Util  Compute M. |\n",
      "|                                         |                      |               MIG M. |\n",
      "|=========================================+======================+======================|\n",
      "|   0  Tesla V100-SXM2-32GB           Off | 00000000:00:07.0 Off |                    0 |\n",
      "| N/A   36C    P0              54W / 300W |  12254MiB / 32768MiB |      0%      Default |\n",
      "|                                         |                      |                  N/A |\n",
      "+-----------------------------------------+----------------------+----------------------+\n",
      "                                                                                         \n",
      "+---------------------------------------------------------------------------------------+\n",
      "| Processes:                                                                            |\n",
      "|  GPU   GI   CI        PID   Type   Process name                            GPU Memory |\n",
      "|        ID   ID                                                             Usage      |\n",
      "|=======================================================================================|\n",
      "|    0   N/A  N/A     31941      C   /root/anaconda3/envs/LLM/bin/python       12252MiB |\n",
      "+---------------------------------------------------------------------------------------+\n"
     ]
    }
   ],
   "source": [
    "!nvidia-smi"
   ]
  },
  {
   "cell_type": "code",
   "execution_count": 31,
   "id": "b25109f9-5211-4770-bb21-9e1f7e7e1faf",
   "metadata": {
    "scrolled": true
   },
   "outputs": [],
   "source": [
    "model.to(device);"
   ]
  },
  {
   "cell_type": "code",
   "execution_count": 32,
   "id": "a63c4af9-db1d-4abc-9f57-c9b9bc41cc8c",
   "metadata": {},
   "outputs": [
    {
     "name": "stdout",
     "output_type": "stream",
     "text": [
      "Sat Aug 12 16:04:28 2023       \n",
      "+---------------------------------------------------------------------------------------+\n",
      "| NVIDIA-SMI 535.54.03              Driver Version: 535.54.03    CUDA Version: 12.2     |\n",
      "|-----------------------------------------+----------------------+----------------------+\n",
      "| GPU  Name                 Persistence-M | Bus-Id        Disp.A | Volatile Uncorr. ECC |\n",
      "| Fan  Temp   Perf          Pwr:Usage/Cap |         Memory-Usage | GPU-Util  Compute M. |\n",
      "|                                         |                      |               MIG M. |\n",
      "|=========================================+======================+======================|\n",
      "|   0  Tesla V100-SXM2-32GB           Off | 00000000:00:07.0 Off |                    0 |\n",
      "| N/A   36C    P0              54W / 300W |  12254MiB / 32768MiB |      0%      Default |\n",
      "|                                         |                      |                  N/A |\n",
      "+-----------------------------------------+----------------------+----------------------+\n",
      "                                                                                         \n",
      "+---------------------------------------------------------------------------------------+\n",
      "| Processes:                                                                            |\n",
      "|  GPU   GI   CI        PID   Type   Process name                            GPU Memory |\n",
      "|        ID   ID                                                             Usage      |\n",
      "|=======================================================================================|\n",
      "|    0   N/A  N/A     31941      C   /root/anaconda3/envs/LLM/bin/python       12252MiB |\n",
      "+---------------------------------------------------------------------------------------+\n"
     ]
    }
   ],
   "source": [
    "!nvidia-smi"
   ]
  },
  {
   "cell_type": "code",
   "execution_count": 33,
   "id": "af59e5b2-b0aa-4390-9f28-5b82e4979231",
   "metadata": {},
   "outputs": [
    {
     "name": "stderr",
     "output_type": "stream",
     "text": [
      "/root/anaconda3/envs/LLM/lib/python3.11/site-packages/transformers/optimization.py:411: FutureWarning: This implementation of AdamW is deprecated and will be removed in a future version. Use the PyTorch implementation torch.optim.AdamW instead, or set `no_deprecation_warning=True` to disable this warning\n",
      "  warnings.warn(\n"
     ]
    },
    {
     "data": {
      "text/html": [
       "\n",
       "    <div>\n",
       "      \n",
       "      <progress value='1000' max='1000' style='width:300px; height:20px; vertical-align: middle;'></progress>\n",
       "      [1000/1000 02:25, Epoch 2/3]\n",
       "    </div>\n",
       "    <table border=\"1\" class=\"dataframe\">\n",
       "  <thead>\n",
       " <tr style=\"text-align: left;\">\n",
       "      <th>Step</th>\n",
       "      <th>Training Loss</th>\n",
       "    </tr>\n",
       "  </thead>\n",
       "  <tbody>\n",
       "    <tr>\n",
       "      <td>50</td>\n",
       "      <td>2.507100</td>\n",
       "    </tr>\n",
       "    <tr>\n",
       "      <td>100</td>\n",
       "      <td>2.250000</td>\n",
       "    </tr>\n",
       "    <tr>\n",
       "      <td>150</td>\n",
       "      <td>1.727900</td>\n",
       "    </tr>\n",
       "    <tr>\n",
       "      <td>200</td>\n",
       "      <td>2.013500</td>\n",
       "    </tr>\n",
       "    <tr>\n",
       "      <td>250</td>\n",
       "      <td>1.815800</td>\n",
       "    </tr>\n",
       "    <tr>\n",
       "      <td>300</td>\n",
       "      <td>1.770200</td>\n",
       "    </tr>\n",
       "    <tr>\n",
       "      <td>350</td>\n",
       "      <td>1.724700</td>\n",
       "    </tr>\n",
       "    <tr>\n",
       "      <td>400</td>\n",
       "      <td>1.649000</td>\n",
       "    </tr>\n",
       "    <tr>\n",
       "      <td>450</td>\n",
       "      <td>1.670700</td>\n",
       "    </tr>\n",
       "    <tr>\n",
       "      <td>500</td>\n",
       "      <td>1.559000</td>\n",
       "    </tr>\n",
       "    <tr>\n",
       "      <td>550</td>\n",
       "      <td>1.384600</td>\n",
       "    </tr>\n",
       "    <tr>\n",
       "      <td>600</td>\n",
       "      <td>1.348800</td>\n",
       "    </tr>\n",
       "    <tr>\n",
       "      <td>650</td>\n",
       "      <td>1.333100</td>\n",
       "    </tr>\n",
       "    <tr>\n",
       "      <td>700</td>\n",
       "      <td>1.285400</td>\n",
       "    </tr>\n",
       "    <tr>\n",
       "      <td>750</td>\n",
       "      <td>1.209500</td>\n",
       "    </tr>\n",
       "    <tr>\n",
       "      <td>800</td>\n",
       "      <td>1.198500</td>\n",
       "    </tr>\n",
       "    <tr>\n",
       "      <td>850</td>\n",
       "      <td>1.358200</td>\n",
       "    </tr>\n",
       "    <tr>\n",
       "      <td>900</td>\n",
       "      <td>1.349100</td>\n",
       "    </tr>\n",
       "    <tr>\n",
       "      <td>950</td>\n",
       "      <td>1.199800</td>\n",
       "    </tr>\n",
       "    <tr>\n",
       "      <td>1000</td>\n",
       "      <td>1.081900</td>\n",
       "    </tr>\n",
       "  </tbody>\n",
       "</table><p>"
      ],
      "text/plain": [
       "<IPython.core.display.HTML object>"
      ]
     },
     "metadata": {},
     "output_type": "display_data"
    },
    {
     "data": {
      "text/plain": [
       "TrainOutput(global_step=1000, training_loss=1.5718250617980958, metrics={'train_runtime': 147.4049, 'train_samples_per_second': 6.784, 'train_steps_per_second': 6.784, 'total_flos': 2413781812838400.0, 'train_loss': 1.5718250617980958, 'epoch': 2.12})"
      ]
     },
     "execution_count": 33,
     "metadata": {},
     "output_type": "execute_result"
    }
   ],
   "source": [
    "trainer.train()"
   ]
  },
  {
   "cell_type": "code",
   "execution_count": null,
   "id": "9437d03d-bdd3-42ea-92d2-828561055e70",
   "metadata": {},
   "outputs": [],
   "source": [
    "微调占用显存：22592MiB"
   ]
  },
  {
   "cell_type": "code",
   "execution_count": 34,
   "id": "42a79603-8036-419a-9aba-fcbdb1afcd8f",
   "metadata": {
    "scrolled": true
   },
   "outputs": [
    {
     "data": {
      "text/plain": [
       "PeftModelForCausalLM(\n",
       "  (base_model): LoraModel(\n",
       "    (model): ChatGLMForConditionalGeneration(\n",
       "      (transformer): ChatGLMModel(\n",
       "        (word_embeddings): Embedding(150528, 4096)\n",
       "        (layers): ModuleList(\n",
       "          (0-27): 28 x GLMBlock(\n",
       "            (input_layernorm): LayerNorm((4096,), eps=1e-05, elementwise_affine=True)\n",
       "            (attention): SelfAttention(\n",
       "              (rotary_emb): RotaryEmbedding()\n",
       "              (query_key_value): Linear(\n",
       "                in_features=4096, out_features=12288, bias=True\n",
       "                (lora_dropout): ModuleDict(\n",
       "                  (default): Dropout(p=0.1, inplace=False)\n",
       "                )\n",
       "                (lora_A): ModuleDict(\n",
       "                  (default): Linear(in_features=4096, out_features=8, bias=False)\n",
       "                )\n",
       "                (lora_B): ModuleDict(\n",
       "                  (default): Linear(in_features=8, out_features=12288, bias=False)\n",
       "                )\n",
       "                (lora_embedding_A): ParameterDict()\n",
       "                (lora_embedding_B): ParameterDict()\n",
       "              )\n",
       "              (dense): Linear(in_features=4096, out_features=4096, bias=True)\n",
       "            )\n",
       "            (post_attention_layernorm): LayerNorm((4096,), eps=1e-05, elementwise_affine=True)\n",
       "            (mlp): GLU(\n",
       "              (dense_h_to_4h): Linear(in_features=4096, out_features=16384, bias=True)\n",
       "              (dense_4h_to_h): Linear(in_features=16384, out_features=4096, bias=True)\n",
       "            )\n",
       "          )\n",
       "        )\n",
       "        (final_layernorm): LayerNorm((4096,), eps=1e-05, elementwise_affine=True)\n",
       "      )\n",
       "      (lm_head): Linear(in_features=4096, out_features=150528, bias=False)\n",
       "    )\n",
       "  )\n",
       ")"
      ]
     },
     "execution_count": 34,
     "metadata": {},
     "output_type": "execute_result"
    }
   ],
   "source": [
    "model = model.half().cuda()\n",
    "model.eval()"
   ]
  },
  {
   "cell_type": "code",
   "execution_count": null,
   "id": "bfdcf53b-59d1-4720-92c4-a0113a985b53",
   "metadata": {},
   "outputs": [],
   "source": [
    "eval后占用显存：22592MiB"
   ]
  },
  {
   "cell_type": "code",
   "execution_count": 39,
   "id": "8bb93ece-7da7-48e5-8dc9-1ba2448f1aff",
   "metadata": {},
   "outputs": [],
   "source": [
    "async def create_item(request: Request):\n",
    "    global model, tokenizer\n",
    "    json_post_raw = request\n",
    "    json_post = json.dumps(json_post_raw)\n",
    "    json_post_list = json.loads(json_post)\n",
    "    prompt = json_post_list.get('prompt')\n",
    "    history = json_post_list.get('history')\n",
    "    max_length = json_post_list.get('max_length')\n",
    "    top_p = json_post_list.get('top_p')\n",
    "    temperature = json_post_list.get('temperature')\n",
    "    response, history = model.chat(tokenizer,\n",
    "                                   prompt,\n",
    "                                   history=history,\n",
    "                                   max_length=max_length if max_length else 2048,\n",
    "                                   top_p=top_p if top_p else 0.7,\n",
    "                                   temperature=temperature if temperature else 0.95)\n",
    "    now = datetime.datetime.now()\n",
    "    time = now.strftime(\"%Y-%m-%d %H:%M:%S\")\n",
    "    answer = {\n",
    "        \"response\": response,\n",
    "        \"history\": history,\n",
    "        \"status\": 200,\n",
    "        \"time\": time\n",
    "    }\n",
    "    log = \"[\" + time + \"] \" + '\", prompt:\"' + prompt + '\", response:\"' + repr(response) + '\"'\n",
    "    print(log)\n",
    "    torch_gc()\n",
    "    return answer"
   ]
  },
  {
   "cell_type": "code",
   "execution_count": 40,
   "id": "e06248e1-b9b6-4f60-b548-4c0b3fcc7cb7",
   "metadata": {},
   "outputs": [
    {
     "name": "stdout",
     "output_type": "stream",
     "text": [
      "[2023-08-12 16:13:07] \", prompt:\"你好\", response:\"'你好！请问有什么需要帮助的吗？'\"\n",
      "{'response': '你好！请问有什么需要帮助的吗？', 'history': [('你好', '你好！请问有什么需要帮助的吗？')], 'status': 200, 'time': '2023-08-12 16:13:07'}\n"
     ]
    }
   ],
   "source": [
    "# 调用函数示例\n",
    "request_data = {\n",
    "    \"prompt\": \"你好\",\n",
    "    \"history\": [],\n",
    "    \"max_length\": 1024,\n",
    "    \"top_p\": 0.7,\n",
    "    \"temperature\": 0.95\n",
    "}\n",
    "\n",
    "response = await create_item(request_data)\n",
    "print(response)"
   ]
  },
  {
   "cell_type": "markdown",
   "id": "7ff54348-1bb2-4da9-afdc-856af27feb65",
   "metadata": {},
   "source": [
    "释放显存后：12416MiB"
   ]
  },
  {
   "cell_type": "code",
   "execution_count": 42,
   "id": "122b66e0-4eaf-4690-93ac-d1915e280246",
   "metadata": {},
   "outputs": [
    {
     "name": "stdout",
     "output_type": "stream",
     "text": [
      "[2023-08-12 16:14:34] \", prompt:\"中国古代文化中的民间故事有哪些经典作品?\", response:\"'中国古代文化中有很多经典的民间故事，比如《白蛇传》、《西游记》、《水浒传》、《红楼梦》等。这些故事流传广泛，被广泛传颂和改编，成为中国文化的重要组成部分。这些故事讲述了许多英雄人物的传奇经历，体现了中国人的智慧和精神追求。你最喜欢的中国古代民间故事是什么？'\"\n",
      "{'response': '中国古代文化中有很多经典的民间故事，比如《白蛇传》、《西游记》、《水浒传》、《红楼梦》等。这些故事流传广泛，被广泛传颂和改编，成为中国文化的重要组成部分。这些故事讲述了许多英雄人物的传奇经历，体现了中国人的智慧和精神追求。你最喜欢的中国古代民间故事是什么？', 'history': [('中国古代文化中的民间故事有哪些经典作品?', '中国古代文化中有很多经典的民间故事，比如《白蛇传》、《西游记》、《水浒传》、《红楼梦》等。这些故事流传广泛，被广泛传颂和改编，成为中国文化的重要组成部分。这些故事讲述了许多英雄人物的传奇经历，体现了中国人的智慧和精神追求。你最喜欢的中国古代民间故事是什么？')], 'status': 200, 'time': '2023-08-12 16:14:34'}\n"
     ]
    }
   ],
   "source": [
    "# 调用函数示例\n",
    "request_data = {\n",
    "    \"prompt\": \"中国古代文化中的民间故事有哪些经典作品?\",\n",
    "    \"history\": [],\n",
    "    \"max_length\": 1024,\n",
    "    \"top_p\": 0.7,\n",
    "    \"temperature\": 0.95\n",
    "}\n",
    "\n",
    "response = await create_item(request_data)\n",
    "print(response)"
   ]
  },
  {
   "cell_type": "code",
   "execution_count": null,
   "id": "7df9f1ce-1f0a-480d-b685-93d1d699079c",
   "metadata": {},
   "outputs": [],
   "source": []
  }
 ],
 "metadata": {
  "kernelspec": {
   "display_name": "LLM",
   "language": "python",
   "name": "llm"
  },
  "language_info": {
   "codemirror_mode": {
    "name": "ipython",
    "version": 3
   },
   "file_extension": ".py",
   "mimetype": "text/x-python",
   "name": "python",
   "nbconvert_exporter": "python",
   "pygments_lexer": "ipython3",
   "version": "3.11.4"
  }
 },
 "nbformat": 4,
 "nbformat_minor": 5
}
